{
 "cells": [
  {
   "cell_type": "markdown",
   "id": "2b2f72f3-9214-426b-979b-c728876ca1ba",
   "metadata": {},
   "source": [
    "# AI Customer Message Classifier\n",
    "This notebook demonstrates an applied AI integration workflow that classifies and routes customer or tenant messages automatically.\n"
   ]
  },
  {
   "cell_type": "code",
   "execution_count": 2,
   "id": "41d7e990-7b82-414b-add5-27a0c65211be",
   "metadata": {},
   "outputs": [
    {
     "name": "stdout",
     "output_type": "stream",
     "text": [
      "✅ Environment and API loaded.\n"
     ]
    }
   ],
   "source": [
    "# --- Imports ---\n",
    "import pandas as pd\n",
    "import numpy as np\n",
    "import duckdb\n",
    "from openai import OpenAI\n",
    "from dotenv import load_dotenv\n",
    "import os\n",
    "import matplotlib.pyplot as plt\n",
    "import seaborn as sns\n",
    "from sklearn.metrics import classification_report, confusion_matrix\n",
    "import json\n",
    "\n",
    "# --- Load Environment ---\n",
    "load_dotenv()\n",
    "client = OpenAI(api_key=os.getenv(\"OPENAI_API_KEY\"))\n",
    "print(\"✅ Environment and API loaded.\")\n"
   ]
  },
  {
   "cell_type": "code",
   "execution_count": 4,
   "id": "9b444493-19b4-41ce-b2da-48da9057c44f",
   "metadata": {},
   "outputs": [
    {
     "name": "stdout",
     "output_type": "stream",
     "text": [
      "✅ Synthetic dataset created with 10 messages.\n"
     ]
    },
    {
     "data": {
      "text/html": [
       "<div>\n",
       "<style scoped>\n",
       "    .dataframe tbody tr th:only-of-type {\n",
       "        vertical-align: middle;\n",
       "    }\n",
       "\n",
       "    .dataframe tbody tr th {\n",
       "        vertical-align: top;\n",
       "    }\n",
       "\n",
       "    .dataframe thead th {\n",
       "        text-align: right;\n",
       "    }\n",
       "</style>\n",
       "<table border=\"1\" class=\"dataframe\">\n",
       "  <thead>\n",
       "    <tr style=\"text-align: right;\">\n",
       "      <th></th>\n",
       "      <th>message_text</th>\n",
       "      <th>true_category</th>\n",
       "    </tr>\n",
       "  </thead>\n",
       "  <tbody>\n",
       "    <tr>\n",
       "      <th>0</th>\n",
       "      <td>My sink is leaking again, please send maintena...</td>\n",
       "      <td>Maintenance</td>\n",
       "    </tr>\n",
       "    <tr>\n",
       "      <th>1</th>\n",
       "      <td>Can I renew my lease early?</td>\n",
       "      <td>Leasing</td>\n",
       "    </tr>\n",
       "    <tr>\n",
       "      <th>2</th>\n",
       "      <td>When is rent due this month?</td>\n",
       "      <td>Billing</td>\n",
       "    </tr>\n",
       "    <tr>\n",
       "      <th>3</th>\n",
       "      <td>The parking gate won't open with my code.</td>\n",
       "      <td>Maintenance</td>\n",
       "    </tr>\n",
       "    <tr>\n",
       "      <th>4</th>\n",
       "      <td>How can I set up autopay for my rent?</td>\n",
       "      <td>Billing</td>\n",
       "    </tr>\n",
       "  </tbody>\n",
       "</table>\n",
       "</div>"
      ],
      "text/plain": [
       "                                        message_text true_category\n",
       "0  My sink is leaking again, please send maintena...   Maintenance\n",
       "1                        Can I renew my lease early?       Leasing\n",
       "2                       When is rent due this month?       Billing\n",
       "3          The parking gate won't open with my code.   Maintenance\n",
       "4              How can I set up autopay for my rent?       Billing"
      ]
     },
     "execution_count": 4,
     "metadata": {},
     "output_type": "execute_result"
    }
   ],
   "source": [
    "# --- Generate Synthetic Customer Messages ---\n",
    "messages = [\n",
    "    (\"My sink is leaking again, please send maintenance.\", \"Maintenance\"),\n",
    "    (\"Can I renew my lease early?\", \"Leasing\"),\n",
    "    (\"When is rent due this month?\", \"Billing\"),\n",
    "    (\"The parking gate won't open with my code.\", \"Maintenance\"),\n",
    "    (\"How can I set up autopay for my rent?\", \"Billing\"),\n",
    "    (\"My air conditioner stopped working.\", \"Maintenance\"),\n",
    "    (\"I lost my mailbox key, what should I do?\", \"General Inquiry\"),\n",
    "    (\"I'd like to transfer to another unit when available.\", \"Leasing\"),\n",
    "    (\"Can I get a copy of my last payment receipt?\", \"Billing\"),\n",
    "    (\"Who do I contact about noise complaints?\", \"General Inquiry\")\n",
    "]\n",
    "\n",
    "df = pd.DataFrame(messages, columns=[\"message_text\", \"true_category\"])\n",
    "df.to_csv(\"data/synthetic_messages.csv\", index=False)\n",
    "print(\"✅ Synthetic dataset created with\", len(df), \"messages.\")\n",
    "df.head()\n"
   ]
  },
  {
   "cell_type": "code",
   "execution_count": 5,
   "id": "13fd43d6-8531-48d2-b597-06063bd9db6f",
   "metadata": {},
   "outputs": [],
   "source": [
    "# --- Define LLM-based classifier ---\n",
    "def classify_message(message_text):\n",
    "    prompt = f\"\"\"\n",
    "    Classify the following message into one of these categories:\n",
    "    [Maintenance, Billing, Leasing, General Inquiry].\n",
    "    Message: \"{message_text}\"\n",
    "    Respond only with the category name.\n",
    "    \"\"\"\n",
    "    try:\n",
    "        response = client.chat.completions.create(\n",
    "            model=\"gpt-4o-mini\",\n",
    "            messages=[{\"role\": \"user\", \"content\": prompt}],\n",
    "            temperature=0\n",
    "        )\n",
    "        return response.choices[0].message.content.strip()\n",
    "    except Exception as e:\n",
    "        print(\"Error:\", e)\n",
    "        return \"Error\"\n"
   ]
  },
  {
   "cell_type": "code",
   "execution_count": 7,
   "id": "406bb968-3fde-4760-90e5-7ae25cc1c7e9",
   "metadata": {
    "collapsed": true,
    "jupyter": {
     "outputs_hidden": true
    }
   },
   "outputs": [
    {
     "name": "stdout",
     "output_type": "stream",
     "text": [
      "✅ Classification complete.\n"
     ]
    },
    {
     "data": {
      "text/html": [
       "<div>\n",
       "<style scoped>\n",
       "    .dataframe tbody tr th:only-of-type {\n",
       "        vertical-align: middle;\n",
       "    }\n",
       "\n",
       "    .dataframe tbody tr th {\n",
       "        vertical-align: top;\n",
       "    }\n",
       "\n",
       "    .dataframe thead th {\n",
       "        text-align: right;\n",
       "    }\n",
       "</style>\n",
       "<table border=\"1\" class=\"dataframe\">\n",
       "  <thead>\n",
       "    <tr style=\"text-align: right;\">\n",
       "      <th></th>\n",
       "      <th>message_text</th>\n",
       "      <th>true_category</th>\n",
       "      <th>predicted_category</th>\n",
       "    </tr>\n",
       "  </thead>\n",
       "  <tbody>\n",
       "    <tr>\n",
       "      <th>0</th>\n",
       "      <td>My sink is leaking again, please send maintena...</td>\n",
       "      <td>Maintenance</td>\n",
       "      <td>Maintenance</td>\n",
       "    </tr>\n",
       "    <tr>\n",
       "      <th>1</th>\n",
       "      <td>Can I renew my lease early?</td>\n",
       "      <td>Leasing</td>\n",
       "      <td>Leasing</td>\n",
       "    </tr>\n",
       "    <tr>\n",
       "      <th>2</th>\n",
       "      <td>When is rent due this month?</td>\n",
       "      <td>Billing</td>\n",
       "      <td>Billing</td>\n",
       "    </tr>\n",
       "    <tr>\n",
       "      <th>3</th>\n",
       "      <td>The parking gate won't open with my code.</td>\n",
       "      <td>Maintenance</td>\n",
       "      <td>Maintenance</td>\n",
       "    </tr>\n",
       "    <tr>\n",
       "      <th>4</th>\n",
       "      <td>How can I set up autopay for my rent?</td>\n",
       "      <td>Billing</td>\n",
       "      <td>Billing</td>\n",
       "    </tr>\n",
       "  </tbody>\n",
       "</table>\n",
       "</div>"
      ],
      "text/plain": [
       "                                        message_text true_category  \\\n",
       "0  My sink is leaking again, please send maintena...   Maintenance   \n",
       "1                        Can I renew my lease early?       Leasing   \n",
       "2                       When is rent due this month?       Billing   \n",
       "3          The parking gate won't open with my code.   Maintenance   \n",
       "4              How can I set up autopay for my rent?       Billing   \n",
       "\n",
       "  predicted_category  \n",
       "0        Maintenance  \n",
       "1            Leasing  \n",
       "2            Billing  \n",
       "3        Maintenance  \n",
       "4            Billing  "
      ]
     },
     "execution_count": 7,
     "metadata": {},
     "output_type": "execute_result"
    }
   ],
   "source": [
    "df[\"predicted_category\"] = df[\"message_text\"].apply(classify_message)\n",
    "df.to_csv(\"data/classified_messages.csv\", index=False)\n",
    "print(\"✅ Classification complete.\")\n",
    "df.head()\n"
   ]
  },
  {
   "cell_type": "code",
   "execution_count": 9,
   "id": "1771b541-d4ec-4bb2-8ab2-1f0cedb7b0a5",
   "metadata": {},
   "outputs": [
    {
     "name": "stdout",
     "output_type": "stream",
     "text": [
      "Classification Report:\n",
      "                 precision  recall  f1-score  support\n",
      "Billing                1.0     1.0       1.0      3.0\n",
      "General Inquiry        1.0     1.0       1.0      2.0\n",
      "Leasing                1.0     1.0       1.0      2.0\n",
      "Maintenance            1.0     1.0       1.0      3.0\n",
      "accuracy               1.0     1.0       1.0      1.0\n",
      "macro avg              1.0     1.0       1.0     10.0\n",
      "weighted avg           1.0     1.0       1.0     10.0\n"
     ]
    },
    {
     "data": {
      "image/png": "[encoded data removed]",
      "text/plain": [
       "<Figure size 600x500 with 1 Axes>"
      ]
     },
     "metadata": {},
     "output_type": "display_data"
    },
    {
     "data": {
      "image/png": "[encoded data removed]",
      "text/plain": [
       "<Figure size 600x400 with 1 Axes>"
      ]
     },
     "metadata": {},
     "output_type": "display_data"
    },
    {
     "name": "stdout",
     "output_type": "stream",
     "text": [
      "✅ Visualizations and metrics saved to the 'figures/' directory.\n"
     ]
    }
   ],
   "source": [
    "# --- Evaluate Model Accuracy and Save Visualizations ---\n",
    "\n",
    "import os\n",
    "os.makedirs(\"figures\", exist_ok=True)  # ensure folder exists\n",
    "\n",
    "# Classification metrics\n",
    "report = classification_report(df[\"true_category\"], df[\"predicted_category\"], output_dict=True)\n",
    "report_df = pd.DataFrame(report).transpose()\n",
    "print(\"Classification Report:\")\n",
    "print(report_df)\n",
    "\n",
    "# Save metrics to CSV for reference\n",
    "report_df.to_csv(\"figures/classification_report.csv\")\n",
    "\n",
    "# Confusion matrix plot\n",
    "cm = confusion_matrix(df[\"true_category\"], df[\"predicted_category\"])\n",
    "plt.figure(figsize=(6, 5))\n",
    "sns.heatmap(cm, annot=True, fmt=\"d\", cmap=\"Blues\", cbar=False)\n",
    "plt.title(\"Confusion Matrix\")\n",
    "plt.xlabel(\"Predicted Category\")\n",
    "plt.ylabel(\"True Category\")\n",
    "plt.tight_layout()\n",
    "\n",
    "# Save and show\n",
    "plt.savefig(\"figures/confusion_matrix.png\", dpi=300, bbox_inches=\"tight\")\n",
    "plt.show()\n",
    "\n",
    "# Bar chart of predictions\n",
    "plt.figure(figsize=(6, 4))\n",
    "df[\"predicted_category\"].value_counts().plot(kind=\"bar\", color=\"teal\")\n",
    "plt.title(\"Predicted Category Distribution\")\n",
    "plt.xlabel(\"Category\")\n",
    "plt.ylabel(\"Count\")\n",
    "plt.tight_layout()\n",
    "plt.savefig(\"figures/predicted_distribution.png\", dpi=300, bbox_inches=\"tight\")\n",
    "plt.show()\n",
    "\n",
    "print(\"✅ Visualizations and metrics saved to the 'figures/' directory.\")\n",
    "\n"
   ]
  },
  {
   "cell_type": "code",
   "execution_count": 10,
   "id": "adf6ba53-8165-4011-8d7c-8de093c3517f",
   "metadata": {},
   "outputs": [
    {
     "name": "stdout",
     "output_type": "stream",
     "text": [
      "✅ Stored 10 classified messages in 'data/classified_messages.duckdb'.\n",
      "Preview of stored data:\n"
     ]
    },
    {
     "data": {
      "text/html": [
       "<div>\n",
       "<style scoped>\n",
       "    .dataframe tbody tr th:only-of-type {\n",
       "        vertical-align: middle;\n",
       "    }\n",
       "\n",
       "    .dataframe tbody tr th {\n",
       "        vertical-align: top;\n",
       "    }\n",
       "\n",
       "    .dataframe thead th {\n",
       "        text-align: right;\n",
       "    }\n",
       "</style>\n",
       "<table border=\"1\" class=\"dataframe\">\n",
       "  <thead>\n",
       "    <tr style=\"text-align: right;\">\n",
       "      <th></th>\n",
       "      <th>message_text</th>\n",
       "      <th>true_category</th>\n",
       "      <th>predicted_category</th>\n",
       "    </tr>\n",
       "  </thead>\n",
       "  <tbody>\n",
       "    <tr>\n",
       "      <th>0</th>\n",
       "      <td>My sink is leaking again, please send maintena...</td>\n",
       "      <td>Maintenance</td>\n",
       "      <td>Maintenance</td>\n",
       "    </tr>\n",
       "    <tr>\n",
       "      <th>1</th>\n",
       "      <td>Can I renew my lease early?</td>\n",
       "      <td>Leasing</td>\n",
       "      <td>Leasing</td>\n",
       "    </tr>\n",
       "    <tr>\n",
       "      <th>2</th>\n",
       "      <td>When is rent due this month?</td>\n",
       "      <td>Billing</td>\n",
       "      <td>Billing</td>\n",
       "    </tr>\n",
       "    <tr>\n",
       "      <th>3</th>\n",
       "      <td>The parking gate won't open with my code.</td>\n",
       "      <td>Maintenance</td>\n",
       "      <td>Maintenance</td>\n",
       "    </tr>\n",
       "    <tr>\n",
       "      <th>4</th>\n",
       "      <td>How can I set up autopay for my rent?</td>\n",
       "      <td>Billing</td>\n",
       "      <td>Billing</td>\n",
       "    </tr>\n",
       "  </tbody>\n",
       "</table>\n",
       "</div>"
      ],
      "text/plain": [
       "                                        message_text true_category  \\\n",
       "0  My sink is leaking again, please send maintena...   Maintenance   \n",
       "1                        Can I renew my lease early?       Leasing   \n",
       "2                       When is rent due this month?       Billing   \n",
       "3          The parking gate won't open with my code.   Maintenance   \n",
       "4              How can I set up autopay for my rent?       Billing   \n",
       "\n",
       "  predicted_category  \n",
       "0        Maintenance  \n",
       "1            Leasing  \n",
       "2            Billing  \n",
       "3        Maintenance  \n",
       "4            Billing  "
      ]
     },
     "metadata": {},
     "output_type": "display_data"
    }
   ],
   "source": [
    "# --- Save classification results into DuckDB database ---\n",
    "\n",
    "import duckdb\n",
    "import os\n",
    "\n",
    "# Ensure database folder exists\n",
    "os.makedirs(\"data\", exist_ok=True)\n",
    "\n",
    "db_path = \"data/classified_messages.duckdb\"\n",
    "\n",
    "# Connect (creates file if not present)\n",
    "con = duckdb.connect(database=db_path)\n",
    "\n",
    "# Write or replace the table\n",
    "con.execute(\"CREATE OR REPLACE TABLE messages AS SELECT * FROM df\")\n",
    "\n",
    "# Verify storage\n",
    "row_count = con.execute(\"SELECT COUNT(*) FROM messages\").fetchone()[0]\n",
    "sample = con.execute(\"SELECT * FROM messages LIMIT 5\").fetchdf()\n",
    "\n",
    "con.close()\n",
    "\n",
    "print(f\"✅ Stored {row_count} classified messages in '{db_path}'.\")\n",
    "print(\"Preview of stored data:\")\n",
    "display(sample)\n"
   ]
  },
  {
   "cell_type": "markdown",
   "id": "74fed2a3-9146-4ea0-948b-76bc876e89a3",
   "metadata": {},
   "source": [
    "## 🧠 Summary and Next Steps\n",
    "\n",
    "This notebook demonstrates a practical AI-integration workflow for automatically classifying\n",
    "customer or tenant messages into operational categories such as **Maintenance**, **Billing**,\n",
    "**Leasing**, and **General Inquiry**.\n",
    "\n",
    "**Key outcomes**\n",
    "- Generated a reproducible synthetic dataset for message classification.\n",
    "- Applied an LLM-based classifier (OpenAI GPT-4o mini) to categorize text messages.\n",
    "- Evaluated performance with precision, recall, F1-score, and a confusion matrix.\n",
    "- Stored all results in a persistent **DuckDB** database for downstream analysis.\n",
    "- Saved metrics and visualizations to the `figures/` directory for easy versioning.\n",
    "\n",
    "**Next steps**\n",
    "1. Expand the dataset with more diverse message examples.\n",
    "2. Add error-handling and confidence scoring for model outputs.\n",
    "3. Integrate the classifier into a simple **Streamlit** or **FastAPI** web interface.\n",
    "4. Automate nightly classification and reporting through GitHub Actions.\n",
    "5. Compare LLM performance against a fine-tuned scikit-learn baseline.\n",
    "\n",
    "This project highlights how **AI-powered text classification** can streamline routine\n",
    "communication workflows and demonstrates end-to-end integration from data ingestion to\n",
    "automated storage and visualization.\n"
   ]
  },
  {
   "cell_type": "markdown",
   "id": "455ecead-6d60-4ebc-8d6b-418a56643399",
   "metadata": {},
   "source": [
    "## Summary and Next Steps\n",
    "\n",
    "This notebook demonstrates a practical AI-integration workflow for automatically classifying\n",
    "customer or tenant messages into operational categories such as **Maintenance**, **Billing**,\n",
    "**Leasing**, and **General Inquiry**.\n",
    "\n",
    "**Key outcomes**\n",
    "- Generated a reproducible synthetic dataset for message classification.\n",
    "- Applied an LLM-based classifier (OpenAI GPT-4o mini) to categorize text messages.\n",
    "- Evaluated performance with precision, recall, F1-score, and a confusion matrix.\n",
    "- Stored all results in a persistent **DuckDB** database for downstream analysis.\n",
    "- Saved metrics and visualizations to the `figures/` directory for easy versioning.\n",
    "\n",
    "**Next steps**\n",
    "1. Expand the dataset with more diverse message examples.\n",
    "2. Add error-handling and confidence scoring for model outputs.\n",
    "3. Integrate the classifier into a simple **Streamlit** or **FastAPI** web interface.\n",
    "4. Automate nightly classification and reporting through GitHub Actions.\n",
    "5. Compare LLM performance against a fine-tuned scikit-learn baseline.\n",
    "\n",
    "This project highlights how **AI-powered text classification** can streamline routine\n",
    "communication workflows and demonstrates end-to-end integration from data ingestion to\n",
    "automated storage and visualization.\n"
   ]
  },
  {
   "cell_type": "markdown",
   "id": "84c0f3b6-c00a-49ce-83cb-eef5fd186a90",
   "metadata": {},
   "source": []
  }
 ],
 "metadata": {
  "kernelspec": {
   "display_name": "Python 3 (ipykernel)",
   "language": "python",
   "name": "python3"
  },
  "language_info": {
   "codemirror_mode": {
    "name": "ipython",
    "version": 3
   },
   "file_extension": ".py",
   "mimetype": "text/x-python",
   "name": "python",
   "nbconvert_exporter": "python",
   "pygments_lexer": "ipython3",
   "version": "3.11.14"
  }
 },
 "nbformat": 4,
 "nbformat_minor": 5
}
